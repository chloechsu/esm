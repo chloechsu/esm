{
 "cells": [
  {
   "cell_type": "markdown",
   "id": "aded4df4",
   "metadata": {},
   "source": [
    "# Example notebook for inverse folding model"
   ]
  },
  {
   "cell_type": "markdown",
   "id": "18544eee",
   "metadata": {},
   "source": [
    "## Load model"
   ]
  },
  {
   "cell_type": "code",
   "execution_count": 1,
   "id": "14d8f393",
   "metadata": {},
   "outputs": [
    {
     "name": "stderr",
     "output_type": "stream",
     "text": [
      "/home/chloehsu/inverse_opensource/esm_fork/esm/pretrained.py:172: UserWarning: Regression weights not found, predicting contacts will not produce correct results.\n",
      "  warnings.warn(\n"
     ]
    }
   ],
   "source": [
    "from esm.pretrained import esm_if1_gvp4_t16_142M_UR50\n",
    "model, alphabet = esm_if1_gvp4_t16_142M_UR50()"
   ]
  },
  {
   "cell_type": "markdown",
   "id": "2a6ed9bb",
   "metadata": {},
   "source": [
    "## Load structure from PDB or CIF files\n",
    "\n",
    "As an example, let's look at Golgi Casein Kinase, the [PDB Molecule of the Month from January 2022](https://pdb101.rcsb.org/motm/265).\n",
    "\n",
    "Milk is a complex mixture of proteins, fats, and nutrients that provides everything that a growing infant needs. Most of the protein in cow’s milk is casein, whereas human milk has lesser amounts of casein. \n",
    "\n",
    "The Golgi casein kinase (PDB entry 5YH2) adds phosphates to casein and also to many other types of secreted proteins. It is most active as a complex of two similar types of proteins. Fam20C is the catalytic subunit. It binds to casein and transfers a phosphate from ATP to the protein.\n",
    "\n",
    "In this example, let's focus on chain C (the catalytic subunit Fam20C)."
   ]
  },
  {
   "cell_type": "code",
   "execution_count": 2,
   "id": "f4d17649",
   "metadata": {},
   "outputs": [
    {
     "name": "stdout",
     "output_type": "stream",
     "text": [
      "Found 6 chains: ['A' 'C' 'B' 'D' 'A' 'B'] \n",
      "\n",
      "Loaded chain C\n",
      "\n",
      "Native sequence:\n",
      "SVLQSLFEHPLYRTVLPDLTEEDTLFNLNAEIRLYPKAASESYPNWLRFHIGINRYELYSRHNPVIAALLRDLLSQKISSVGMKSGGTQLKLIMSFQNYGQALFKPMKQTREQETPPDFFYFSDFERHNAEIAAFHLDRILDFRRVPPVAGRLVNMTREIRDVTRDKKLWRTFFVSPANNICFYGECSYYCSTEHALCGKPDQIEGSLAAFLPDLALAKRKTWRNPWRRSYHKRKKAEWEVDPDYCDEVKQTPPYDRGTRLLDIMDMTIFDFLMGNMDRHHYETFEKFGNDTFIIHLDNGRGFGKHSHDEMSILVPLTQCCRVKRSTYLRLQLLAKEEYKLSSLMEESLLQDRLVPVLIKPHLEALDRRLRLVLKVLSDCVEKDGFSAVVENDLD\n"
     ]
    }
   ],
   "source": [
    "from inverse_folding import load_structure, extract_coords_from_structure\n",
    "fpath = 'example/5YH2.cif' # .pdb format is also acceptable\n",
    "chain_id = 'C'\n",
    "structure = load_structure(fpath, chain_id)\n",
    "coords, native_seq = extract_coords_from_structure(structure)\n",
    "print('Native sequence:')\n",
    "print(native_seq)"
   ]
  },
  {
   "cell_type": "code",
   "execution_count": 3,
   "id": "4e7f1478",
   "metadata": {},
   "outputs": [],
   "source": [
    "import numpy as np"
   ]
  },
  {
   "cell_type": "code",
   "execution_count": 4,
   "id": "50bb20b3",
   "metadata": {},
   "outputs": [
    {
     "name": "stdout",
     "output_type": "stream",
     "text": [
      "Sampled sequence: KTLQDWYLSPQNQIQEPEATEDDRLFSLQDMLAMFPVLEPDGLPVWLKFWQSIKRYRMYGPVNPDVDQLRLRMRTAKVVEVTQQRGGRTLTMNVSYEDGGRALWKPAVSFRETAIPPAWRAYEAFSRYRAEVSAYELDNLFDLRSTPPAESRIVNLTTELRDVSSDLALTKTFFVTPKNATCFHGACDHHCDDDHAICGIPNFISGSLEAQLPDDSIAPRWVETSPWAFAWTDEEREDWSRDPHYFEHMSQTPRWRAGQYLLQMANYFIFNFLQGNDDAHTFETFLRYGHRTQLILYDNGYGFGRADYLDKSILTPLRQAAFFRESLWERIQLLSKTETDMQTLLKQVLAKNECYPVLVQPFLAKANTTLSTISSIFAENVKEYGQENVLFKDQF\n",
      "Sequence recovery: 0.3569620253164557\n"
     ]
    }
   ],
   "source": [
    "sampled_seq = model.sample(coords, temperature=1)\n",
    "print('Sampled sequence:', sampled_seq)\n",
    "\n",
    "recovery = np.mean([(a==b) for a, b in zip(native_seq, sampled_seq)])\n",
    "print('Sequence recovery:', recovery)"
   ]
  },
  {
   "cell_type": "code",
   "execution_count": 5,
   "id": "c82f7a48",
   "metadata": {},
   "outputs": [
    {
     "name": "stdout",
     "output_type": "stream",
     "text": [
      "Sampled sequence: EVLERWWASPLTQIEDPELSEEDLLFDPEELLALLPEEEEEELPEWLQFWVEIRRRRLYPRQSPWVERLLERLRTAKVREVRQKGGGRSLVLEFSFEDLGRAYFKPKVAELEEETPPEWRYWERLETAQAVVAAYWLDRVLDLRQTPPAAGRRLDLVSELRDVTEDEELLSTFFVTPEERLCFWGRGSFRCSEEHAICGEPEEVEGVLVAALPDERIAPRGLYLSPWRESREEEEEAWWEEDPEFAEHVRRLPPLREGRLLLELARDFVFYFLMGDADAHYYETFERFGLDEFLLIYDTGFGFGRADYLDERILVPLEQGCLLSERLYRRLLLLSEEEYSLERLMEEVLGEDELWPVLSEPFLRQLDRRLERVLEVLEECREEVGEEECLVEEEE\n",
      "Sequence recovery: 0.43291139240506327\n"
     ]
    }
   ],
   "source": [
    "# Lower sampling temperature typically results in higher sequence recovery but less diversity\n",
    "\n",
    "sampled_seq = model.sample(coords, temperature=1e-6)\n",
    "print('Sampled sequence:', sampled_seq)\n",
    "\n",
    "recovery = np.mean([(a==b) for a, b in zip(native_seq, sampled_seq)])\n",
    "print('Sequence recovery:', recovery)"
   ]
  },
  {
   "cell_type": "markdown",
   "id": "310b282a",
   "metadata": {},
   "source": [
    "## Conditional sequence log-likelihoods for given backbone coordinates"
   ]
  },
  {
   "cell_type": "code",
   "execution_count": 6,
   "id": "c7d41032",
   "metadata": {
    "scrolled": true
   },
   "outputs": [
    {
     "name": "stdout",
     "output_type": "stream",
     "text": [
      "average log-likelihood on entire sequence: -1.70 (perplexity 5.48)\n",
      "average log-likelihood excluding missing coordinates: -1.70 (perplexity 5.48)\n"
     ]
    }
   ],
   "source": [
    "from inverse_folding import score_sequence\n",
    "ll_fullseq, ll_withcoord = score_sequence(model, alphabet, coords, native_seq)\n",
    "\n",
    "print(f'average log-likelihood on entire sequence: {ll_fullseq:.2f} (perplexity {np.exp(-ll_fullseq):.2f})')\n",
    "print(f'average log-likelihood excluding missing coordinates: {ll_withcoord:.2f} (perplexity {np.exp(-ll_withcoord):.2f})')"
   ]
  },
  {
   "cell_type": "markdown",
   "id": "9ab34ef2",
   "metadata": {},
   "source": [
    "## Masking part of the backbone coordinates\n",
    "To partially mask backbone coordinates, simply set the masked coordinates to np.inf. \n",
    "\n",
    "Typically, the sequence perplexity will be higher on masked regions than on unmasked regions."
   ]
  },
  {
   "cell_type": "code",
   "execution_count": 7,
   "id": "da7f4c7a",
   "metadata": {
    "scrolled": true
   },
   "outputs": [
    {
     "name": "stdout",
     "output_type": "stream",
     "text": [
      "average log-likelihood on entire sequence: -1.73 (perplexity 5.65)\n",
      "average log-likelihood excluding missing coordinates: -1.69 (perplexity 5.41)\n"
     ]
    }
   ],
   "source": [
    "from inverse_folding import score_sequence\n",
    "from copy import deepcopy\n",
    "masked_coords = deepcopy(coords)\n",
    "masked_coords[:15] = np.inf # mask the first 10 residues\n",
    "ll_fullseq, ll_withcoord = score_sequence(model, alphabet, masked_coords, native_seq)\n",
    "\n",
    "print(f'average log-likelihood on entire sequence: {ll_fullseq:.2f} (perplexity {np.exp(-ll_fullseq):.2f})')\n",
    "print(f'average log-likelihood excluding missing coordinates: {ll_withcoord:.2f} (perplexity {np.exp(-ll_withcoord):.2f})')"
   ]
  },
  {
   "cell_type": "markdown",
   "id": "17cb6adc",
   "metadata": {},
   "source": [
    "## Extract encoder output as structure representation\n",
    "The encoder output may also be used as a representation for the structure.\n",
    "\n",
    "For a set of input coordinates with L amino acids, the encoder output will have shape L x 512."
   ]
  },
  {
   "cell_type": "code",
   "execution_count": 8,
   "id": "0561236d",
   "metadata": {},
   "outputs": [
    {
     "data": {
      "text/plain": [
       "(395, torch.Size([395, 512]))"
      ]
     },
     "execution_count": 8,
     "metadata": {},
     "output_type": "execute_result"
    }
   ],
   "source": [
    "from inverse_folding import get_encoder_output\n",
    "rep = get_encoder_output(model, alphabet, coords)\n",
    "len(coords), rep.shape"
   ]
  }
 ],
 "metadata": {
  "kernelspec": {
   "display_name": "Python 3 (ipykernel)",
   "language": "python",
   "name": "python3"
  },
  "language_info": {
   "codemirror_mode": {
    "name": "ipython",
    "version": 3
   },
   "file_extension": ".py",
   "mimetype": "text/x-python",
   "name": "python",
   "nbconvert_exporter": "python",
   "pygments_lexer": "ipython3",
   "version": "3.9.7"
  }
 },
 "nbformat": 4,
 "nbformat_minor": 5
}
